{
  "nbformat": 4,
  "nbformat_minor": 0,
  "metadata": {
    "colab": {
      "name": "Clustering.ipynb",
      "private_outputs": true,
      "provenance": [],
      "collapsed_sections": [],
      "machine_shape": "hm",
      "authorship_tag": "ABX9TyMJJ/JXuBCnDFxdoGz1wPIF",
      "include_colab_link": true
    },
    "kernelspec": {
      "name": "python3",
      "display_name": "Python 3"
    },
    "language_info": {
      "name": "python"
    },
    "accelerator": "GPU"
  },
  "cells": [
    {
      "cell_type": "markdown",
      "metadata": {
        "id": "view-in-github",
        "colab_type": "text"
      },
      "source": [
        "<a href=\"https://colab.research.google.com/github/k3m2s12/Building_Image/blob/main/Clustering.ipynb\" target=\"_parent\"><img src=\"https://colab.research.google.com/assets/colab-badge.svg\" alt=\"Open In Colab\"/></a>"
      ]
    },
    {
      "cell_type": "code",
      "metadata": {
        "id": "DsCCijMCwOkL"
      },
      "source": [
        "import numpy as np\n",
        "import cv2\n",
        "from sklearn.cluster import DBSCAN\n",
        "from sklearn import metrics\n",
        "from sklearn.datasets import make_blobs\n",
        "from sklearn.preprocessing import StandardScaler\n",
        "import matplotlib.pyplot as plt\n",
        "from collections import Counter"
      ],
      "execution_count": null,
      "outputs": []
    },
    {
      "cell_type": "code",
      "metadata": {
        "id": "6ITPr88f_mXH"
      },
      "source": [
        "def plot_clusters(labels):\n",
        "    unique_labels = set(labels)\n",
        "    print(unique_labels)\n",
        "    colors = [plt.cm.Spectral(each)\n",
        "            for each in np.linspace(0, 1, len(unique_labels))]\n",
        "\n",
        "    for k, col in zip(unique_labels, colors):\n",
        "        if k == -1:\n",
        "            # Black used for noise.\n",
        "            col = [0, 0, 0, 1]\n",
        "\n",
        "        class_member_mask = (labels == k)\n",
        "\n",
        "        xy = X[class_member_mask & core_samples_mask]\n",
        "        plt.plot(xy[:, 0], xy[:, 1], 'o', markerfacecolor=tuple(col),\n",
        "                markeredgecolor='k', markersize=14)\n",
        "\n",
        "        xy = X[class_member_mask & ~core_samples_mask]\n",
        "        plt.plot(xy[:, 0], xy[:, 1], 'o', markerfacecolor=tuple(col),\n",
        "                markeredgecolor='w', markersize=0)\n",
        "\n",
        "    plt.title('Estimated number of clusters: %d' % n_clusters_)\n",
        "    plt.show()"
      ],
      "execution_count": null,
      "outputs": []
    },
    {
      "cell_type": "code",
      "metadata": {
        "id": "XMnXX6c-UvYJ"
      },
      "source": [
        "# Use Opencv and read the image.\n",
        "# Convert image data (width x height) into   \n",
        "image = cv2.imread(\"binary_image.png\")\n",
        "\n",
        "pixel_loc = []\n",
        "\n",
        "for r in range(0, 2000):\n",
        "    for c in range(0, 2000):\n",
        "        if image[r][c][0] != 255 or image[r][c][1] != 255 or image[r][c][2] != 255:\n",
        "            pixel_loc.append([r, c])\n",
        "\n",
        "X = np.array(pixel_loc)\n",
        "print(\"The number of pixels detected for clustering: \", len(X))"
      ],
      "execution_count": null,
      "outputs": []
    },
    {
      "cell_type": "code",
      "metadata": {
        "id": "-4zEmkLnH136"
      },
      "source": [
        "###############################################################################\n",
        "# Density Based Clustering - Input eps & min_sample\n",
        "print(\"----Density Based Clustering----\") \n",
        "eps_num = int(input(\"Input # for eps: \"))\n",
        "min_samples_nu = int(input(\"Input # for min_samples: \"))\n",
        "\n",
        "db = DBSCAN(eps=eps_num, min_samples=min_samples_nu).fit(X)\n",
        "core_samples_mask = np.zeros_like(db.labels_, dtype=bool)\n",
        "core_samples_mask[db.core_sample_indices_] = True\n",
        "labels = db.labels_\n",
        "\n",
        "# Number of clusters in labels, ignoring noise if present.\n",
        "n_clusters_ = len(set(labels)) - (1 if -1 in labels else 0)\n",
        "n_noise_ = list(labels).count(-1)\n",
        "\n",
        "print('Estimated number of clusters: %d' % n_clusters_)\n",
        "print('Estimated number of noise points: %d' % n_noise_)\n",
        "\n",
        "# Silhouette score can be (-1 ~ +1). Remove # to activate Silhouette Score.\n",
        "# print(\"Silhouette Coefficient: %0.3f\" % metrics.silhouette_score(X, labels))."
      ],
      "execution_count": null,
      "outputs": []
    },
    {
      "cell_type": "code",
      "metadata": {
        "id": "l3sLXrlzoBoM"
      },
      "source": [
        "count_list = []\n",
        "count_labels = Counter(labels)\n",
        "big_labels = dict(Counter(count_labels).most_common(10))\n",
        "big_labels.pop(-1)\n",
        "\n",
        "for cluster_num in big_labels:\n",
        "    indice = [index for index in range(len(labels)) if labels[index] == cluster_num] \n",
        "    \n",
        "    for index in indice:\n",
        "        count_list.append(X[index])\n",
        "\n",
        "    print(\"* The cluster %d has %d of points\" % (cluster_num, len(indice)))\n",
        "    "
      ],
      "execution_count": null,
      "outputs": []
    },
    {
      "cell_type": "code",
      "metadata": {
        "id": "Y1lizugfLR-q"
      },
      "source": [
        "print(big_labels)\n",
        "plot_clusters(big_labels)\n",
        "plot_clusters(labels)"
      ],
      "execution_count": null,
      "outputs": []
    },
    {
      "cell_type": "markdown",
      "metadata": {
        "id": "rximuX74AEhe"
      },
      "source": [
        "@ eps: decide the range of points near the core point. \n",
        "- eps ⇧ \n",
        "∝ number of data points in cluster (cluster size) ⇧\n",
        "∝ total cluster # ⇩ \n",
        "- eps very ⇩ \n",
        "∝ core points #, hard to satisfy min_samples\n",
        "- eps very ⇧ \n",
        "∝ every data points are in one cluster\n",
        "\n",
        "@ min_samples: decides the min size of cluster. (noise control)\n",
        "- min_samples ⇧ \n",
        "∝ core points # ⇩\n",
        "∝ noise points # ⇧"
      ]
    }
  ]
}